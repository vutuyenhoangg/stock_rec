{
 "cells": [
  {
   "cell_type": "code",
   "outputs": [],
   "source": [
    "import pandas as pd\n",
    "#\n",
    "stocks = [\n",
    "     \"ACB\",\"BCM\", \"BID\", \"BVH\", \"CTG\", \"FPT\", \"GAS\", \"GVR\", \"HDB\", \"HPG\", \"MBB\",\n",
    "    \"MSN\", \"MWG\", \"PLX\", \"POW\", \"SAB\", \"SHB\", \"SSB\", \"SSI\", \"STB\",\"TCB\", \"TPB\",\n",
    "    \"VCB\", \"VHM\", \"VIB\", \"VIC\", \"VJC\", \"VNM\", \"VPB\", \"VRE\"\n",
    "]\n",
    "\n",
    "for stock in stocks:\n",
    "    file_path1 = f\"D:\\\\Study Program\\\\Project\\\\Price\\\\{stock}_Price.csv\"\n",
    "    df1 = pd.read_csv(file_path1)\n",
    "    \n",
    "    # Convert Price, Open, High, Low columns to numeric\n",
    "    columns_to_convert = ['Price', 'Open', 'High', 'Low']\n",
    "    for column in columns_to_convert:\n",
    "        df1[column] = df1[column].astype(str).str.replace(',', '').astype(float)\n",
    "\n",
    "    # Convert Vol. to numeric (remove 'M' and 'K' and multiply by appropriate factor)\n",
    "    df1['Vol.'] = df1['Vol.'].astype(str).apply(lambda x: float(x.replace('M', '').replace('K', '')) * (1e6 if 'M' in x else 1e3))\n",
    "\n",
    "    # Convert Date column to datetime format\n",
    "    df1['Date'] = pd.to_datetime(df1['Date'], format='%m/%d/%Y')\n",
    "    \n",
    "    df = df1[[\"Date\", \"Price\", \"Open\", \"High\", \"Low\", \"Vol.\"]]\n",
    "    \n",
    "    # Save the processed DataFrame back to the same file path\n",
    "    df.to_csv(file_path1, index=False)\n"
   ],
   "metadata": {
    "collapsed": false,
    "ExecuteTime": {
     "end_time": "2024-06-06T10:53:39.234350Z",
     "start_time": "2024-06-06T10:53:37.663205Z"
    }
   },
   "id": "8d21cbe85d01c7b2",
   "execution_count": 3
  },
  {
   "cell_type": "code",
   "outputs": [],
   "source": [],
   "metadata": {
    "collapsed": false
   },
   "id": "b770e1dbdf0dc6ff"
  }
 ],
 "metadata": {
  "kernelspec": {
   "display_name": "Python 3",
   "language": "python",
   "name": "python3"
  },
  "language_info": {
   "codemirror_mode": {
    "name": "ipython",
    "version": 2
   },
   "file_extension": ".py",
   "mimetype": "text/x-python",
   "name": "python",
   "nbconvert_exporter": "python",
   "pygments_lexer": "ipython2",
   "version": "2.7.6"
  }
 },
 "nbformat": 4,
 "nbformat_minor": 5
}
