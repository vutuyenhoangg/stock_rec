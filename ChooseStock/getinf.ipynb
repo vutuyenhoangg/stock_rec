{
 "cells": [
  {
   "cell_type": "code",
   "outputs": [
    {
     "name": "stdout",
     "output_type": "stream",
     "text": [
      "Missing columns in ACB quarter report: ['Tài sản ngắn hạn', 'Nợ ngắn hạn']\n",
      "Missing columns in BID quarter report: ['Tài sản ngắn hạn', 'Nợ ngắn hạn']\n",
      "Missing columns in CTG quarter report: ['Tài sản ngắn hạn', 'Nợ ngắn hạn']\n",
      "Missing columns in HDB quarter report: ['Tài sản ngắn hạn', 'Nợ ngắn hạn']\n",
      "Missing columns in MBB quarter report: ['Tài sản ngắn hạn', 'Nợ ngắn hạn']\n",
      "Missing columns in SHB quarter report: ['Tài sản ngắn hạn', 'Nợ ngắn hạn']\n",
      "Missing columns in SSB quarter report: ['Tài sản ngắn hạn', 'Nợ ngắn hạn']\n",
      "Missing columns in STB quarter report: ['Tài sản ngắn hạn', 'Nợ ngắn hạn']\n",
      "Missing columns in TCB quarter report: ['Tài sản ngắn hạn', 'Nợ ngắn hạn']\n",
      "Missing columns in TPB quarter report: ['Tài sản ngắn hạn', 'Nợ ngắn hạn']\n",
      "Missing columns in VCB quarter report: ['Tài sản ngắn hạn', 'Nợ ngắn hạn']\n",
      "Missing columns in VIB quarter report: ['Tài sản ngắn hạn', 'Nợ ngắn hạn']\n",
      "Missing columns in VPB quarter report: ['Tài sản ngắn hạn', 'Nợ ngắn hạn']\n"
     ]
    }
   ],
   "source": [
    "import pandas as pd\n",
    "\n",
    "# List of stock tickers\n",
    "stocks = [\n",
    "    \"ACB\", \"BCM\", \"BID\", \"BVH\", \"CTG\", \"FPT\", \"GAS\", \"GVR\", \"HDB\", \"HPG\", \"MBB\", \n",
    "    \"MSN\", \"MWG\", \"PLX\", \"POW\", \"SAB\", \"SHB\", \"SSB\", \"SSI\", \"STB\", \"TCB\", \"TPB\", \n",
    "    \"VCB\", \"VHM\", \"VIB\", \"VIC\", \"VJC\", \"VNM\", \"VPB\", \"VRE\"\n",
    "]\n",
    "\n",
    "# Initialize an empty list to store results and missing columns report\n",
    "results_list = []\n",
    "missing_columns_report = []\n",
    "\n",
    "for stock in stocks:\n",
    "    try:\n",
    "        # Load the CSV file\n",
    "        file_path = f'D:\\\\Study Program\\\\Project\\\\Quarter_report\\\\{stock}_quarter_report.csv'\n",
    "        data = pd.read_csv(file_path)\n",
    "\n",
    "        # Check if the required columns are present\n",
    "        required_columns = ['Nợ phải trả', 'Tài sản ngắn hạn', 'Nợ ngắn hạn', 'EPS của 4 quý gần nhất', 'BVPS cơ bản', 'Tổng tài sản', 'Time']\n",
    "        missing_columns = [col for col in required_columns if col not in data.columns]\n",
    "        \n",
    "        if missing_columns:\n",
    "            print(f\"Missing columns in {stock} quarter report: {missing_columns}\")\n",
    "            # Add missing columns to the data with value 0\n",
    "            for col in missing_columns:\n",
    "                data[col] = \"NaN\"\n",
    "            missing_columns_report.append((stock, missing_columns))\n",
    "\n",
    "        # Filter rows where \"Time\" matches the specified value\n",
    "        filtered_data = data[data['Time'] == 'Quý 1/2024\\n01/01-31/03\\nCKT/HN'].copy()\n",
    "\n",
    "        # Fill missing values with 0 and infer data types\n",
    "        #filtered_data.fillna(0, inplace=True)\n",
    "        #filtered_data = filtered_data.infer_objects(copy=False)\n",
    "\n",
    "        # Remove commas from the relevant columns and convert to numeric\n",
    "        filtered_data['Nợ phải trả'] = filtered_data['Nợ phải trả'].astype(str).str.replace(',', '').astype(float)\n",
    "        filtered_data['Tài sản ngắn hạn'] = filtered_data['Tài sản ngắn hạn'].astype(str).str.replace(',', '').astype(float)\n",
    "        filtered_data['Nợ ngắn hạn'] = filtered_data['Nợ ngắn hạn'].astype(str).str.replace(',', '').astype(float)\n",
    "        filtered_data['EPS'] = filtered_data['EPS của 4 quý gần nhất'].astype(str).str.replace(',', '').astype(float)\n",
    "        filtered_data['BVPS cơ bản'] = filtered_data['BVPS cơ bản'].astype(str).str.replace(',', '').astype(float)\n",
    "        filtered_data['Tổng tài sản'] = filtered_data['Tổng tài sản'].astype(str).str.replace(',', '').astype(float)\n",
    "        filtered_data['P/E'] = filtered_data['P/E cơ bản'].astype(str).str.replace(',', '').astype(float)\n",
    "\n",
    "        # Calculate the ratios\n",
    "        filtered_data['Nợ phải trả/Tài sản ngắn hạn'] = filtered_data['Nợ phải trả'] / filtered_data['Tài sản ngắn hạn']\n",
    "        filtered_data['Tài sản ngắn hạn/Nợ ngắn hạn'] = filtered_data['Tài sản ngắn hạn'] / filtered_data['Nợ ngắn hạn']\n",
    "\n",
    "        # Load the price CSV file\n",
    "        file_path2 = f'D:\\\\Study Program\\\\Project\\\\Price\\\\{stock}_Price.csv'\n",
    "        data2 = pd.read_csv(file_path2)\n",
    "\n",
    "        # Convert the \"Date\" column to datetime format\n",
    "        data2['Date'] = pd.to_datetime(data2['Date'])\n",
    "        data2['Latest Price'] = data2['Close']\n",
    "\n",
    "        # Sort the DataFrame by date in descending order\n",
    "        data2 = data2.sort_values(by='Date', ascending=False)\n",
    "\n",
    "        # Extract the price of the most recent date\n",
    "        recent_price = data2.iloc[0]['Latest Price']\n",
    "        filtered_data['P/B'] = recent_price / filtered_data['BVPS cơ bản']\n",
    "        filtered_data['Latest Price'] = recent_price\n",
    "\n",
    "        # Add stock ticker to the filtered data\n",
    "        filtered_data['Stock'] = stock\n",
    "\n",
    "        # Append the results to the list\n",
    "        results_list.append(filtered_data[['Stock', 'Nợ phải trả', 'Tổng tài sản', 'Tài sản ngắn hạn', 'Nợ ngắn hạn', \n",
    "                                           'Nợ phải trả/Tài sản ngắn hạn', 'Tài sản ngắn hạn/Nợ ngắn hạn', \n",
    "                                           'EPS', 'P/E', 'BVPS cơ bản', 'P/B', 'Latest Price']])\n",
    "    except FileNotFoundError:\n",
    "        print(f\"File not found for stock: {stock}\")\n",
    "    except KeyError as e:\n",
    "        print(f\"Key error for stock {stock}: {e}\")\n",
    "\n",
    "# Concatenate all results into a single DataFrame\n",
    "if results_list:\n",
    "    results = pd.concat(results_list, ignore_index=True)\n",
    "else:\n",
    "    results = pd.DataFrame()\n",
    "results = results.drop_duplicates(subset='Stock')\n",
    "# Create a DataFrame for the missing columns report\n",
    "missing_columns_df = pd.DataFrame(missing_columns_report, columns=['Stock', 'Missing Columns'])\n",
    "\n",
    "# Specify the path where you want to save the CSV file\n",
    "file_pathsave = r'D:\\\\Study Program\\\\Project\\\\ChooseStock\\\\AnalyzeFIndex.csv'\n",
    "\n",
    "# Save the DataFrame to a CSV file\n",
    "results.to_csv(file_pathsave, index=False)"
   ],
   "metadata": {
    "collapsed": false,
    "ExecuteTime": {
     "end_time": "2024-06-10T16:03:34.178566Z",
     "start_time": "2024-06-10T16:03:33.013367Z"
    }
   },
   "id": "666a02250ec9eb75",
   "execution_count": 1
  },
  {
   "cell_type": "code",
   "outputs": [],
   "source": [
    "filtered_df = results[\n",
    "    (results['Nợ phải trả/Tài sản ngắn hạn'] < 1.8) & \n",
    "    (results['Tài sản ngắn hạn/Nợ ngắn hạn'] > 1) & \n",
    "    (results['P/B'] < 3)]\n",
    "filtered_df.to_csv(\"D:\\\\Study Program\\\\Project\\\\ChooseStock\\\\goodfindexstock.csv\", index = False, encoding = 'utf-8-sig')"
   ],
   "metadata": {
    "collapsed": false,
    "ExecuteTime": {
     "end_time": "2024-06-10T16:03:38.389014Z",
     "start_time": "2024-06-10T16:03:38.374832Z"
    }
   },
   "id": "736d7812b91e51e",
   "execution_count": 2
  }
 ],
 "metadata": {
  "kernelspec": {
   "display_name": "Python 3",
   "language": "python",
   "name": "python3"
  },
  "language_info": {
   "codemirror_mode": {
    "name": "ipython",
    "version": 2
   },
   "file_extension": ".py",
   "mimetype": "text/x-python",
   "name": "python",
   "nbconvert_exporter": "python",
   "pygments_lexer": "ipython2",
   "version": "2.7.6"
  }
 },
 "nbformat": 4,
 "nbformat_minor": 5
}
